{
 "cells": [
  {
   "cell_type": "markdown",
   "metadata": {
    "slideshow": {
     "slide_type": "slide"
    }
   },
   "source": [
    "# Agenda\n",
    "### 1. Ready for oTree? Python review\n",
    "### 2. Conceptual overview of oTree\n",
    "### 3. Survey tutorial\n",
    "### 4. Quiz tutorial\n",
    "### 5. Multiplayer games in oTree\n",
    "### 6. Dictator game tutorial\n"
   ]
  },
  {
   "cell_type": "markdown",
   "metadata": {
    "slideshow": {
     "slide_type": "slide"
    }
   },
   "source": [
    "## 1. Ready for oTree? Python review"
   ]
  },
  {
   "cell_type": "code",
   "execution_count": null,
   "metadata": {
    "slideshow": {
     "slide_type": "fragment"
    }
   },
   "outputs": [],
   "source": [
    "v1 = [2,3,1]\n",
    "# What is v1[1]?\n",
    "v1[1]"
   ]
  },
  {
   "cell_type": "code",
   "execution_count": null,
   "metadata": {
    "slideshow": {
     "slide_type": "fragment"
    }
   },
   "outputs": [],
   "source": [
    "v2 = {2:0, 4:1, 1:3}\n",
    "# What is v2[1]?\n",
    "v2[1]"
   ]
  },
  {
   "cell_type": "markdown",
   "metadata": {
    "slideshow": {
     "slide_type": "subslide"
    }
   },
   "source": [
    "## 1. Ready for oTree? Python review"
   ]
  },
  {
   "cell_type": "code",
   "execution_count": 2,
   "metadata": {
    "slideshow": {
     "slide_type": "fragment"
    }
   },
   "outputs": [],
   "source": [
    "people = [{'name':'Alice', 'gender':'F', 'age':15},\n",
    "          {'name':'Bob', 'gender':'M', 'age':20},\n",
    "          {'name':'Claire', 'gender':'F', 'age':25},\n",
    "          {'name':'David', 'gender':'M', 'age':30}]\n",
    "# Write a function names() that takes in a list like this and returns just the names of the players such that\n",
    "# names(people) = ['Alice', 'Bob', 'Claire', 'David']"
   ]
  },
  {
   "cell_type": "code",
   "execution_count": null,
   "metadata": {
    "slideshow": {
     "slide_type": "-"
    }
   },
   "outputs": [],
   "source": [
    "# Solution:"
   ]
  },
  {
   "cell_type": "code",
   "execution_count": null,
   "metadata": {
    "slideshow": {
     "slide_type": "notes"
    }
   },
   "outputs": [],
   "source": [
    "# Solution:\n",
    "def names(list):\n",
    "    return [dict['name'] for dict in list]\n",
    "names(people)"
   ]
  },
  {
   "cell_type": "markdown",
   "metadata": {
    "slideshow": {
     "slide_type": "subslide"
    }
   },
   "source": [
    "## 1. Ready for oTree? Python review"
   ]
  },
  {
   "cell_type": "code",
   "execution_count": null,
   "metadata": {
    "slideshow": {
     "slide_type": "fragment"
    }
   },
   "outputs": [],
   "source": [
    "people = [{'name':'Alice', 'gender':'F', 'age':15},\n",
    "          {'name':'Bob', 'gender':'M', 'age':20},\n",
    "          {'name':'Claire', 'gender':'F', 'age':25},\n",
    "          {'name':'David', 'gender':'M', 'age':30}]\n",
    "# Write a function filter_adult() that returns just the people over 18 years such that\n",
    "# filter_adult(people) = [{'name':'Bob', 'gender':'M', 'age':20},\n",
    "#                         {'name':'Claire', 'gender':'F', 'age':25},\n",
    "#                         {'name':'David', 'gender':'M', 'age':30}]"
   ]
  },
  {
   "cell_type": "code",
   "execution_count": null,
   "metadata": {
    "slideshow": {
     "slide_type": "-"
    }
   },
   "outputs": [],
   "source": [
    "# Solution:"
   ]
  },
  {
   "cell_type": "code",
   "execution_count": null,
   "metadata": {
    "slideshow": {
     "slide_type": "notes"
    }
   },
   "outputs": [],
   "source": [
    "# Solution:\n",
    "def filter_adult(list):\n",
    "    return [dict for dict in list if dict['age']>18]\n",
    "filter_adult(people)"
   ]
  },
  {
   "cell_type": "markdown",
   "metadata": {
    "slideshow": {
     "slide_type": "subslide"
    }
   },
   "source": [
    "## 1. Ready for oTree? Python review"
   ]
  },
  {
   "cell_type": "markdown",
   "metadata": {
    "slideshow": {
     "slide_type": "fragment"
    }
   },
   "source": [
    "Write a function odd_even() that takes as input an integer and prints a message stating whether the number is even or odd"
   ]
  },
  {
   "cell_type": "code",
   "execution_count": null,
   "metadata": {
    "slideshow": {
     "slide_type": "-"
    }
   },
   "outputs": [],
   "source": [
    "# Solution:"
   ]
  },
  {
   "cell_type": "code",
   "execution_count": null,
   "metadata": {
    "slideshow": {
     "slide_type": "notes"
    }
   },
   "outputs": [],
   "source": [
    "def odd_even(int):\n",
    "    if int % 2 == 0:\n",
    "        print('{} is even'.format(int))\n",
    "    else:\n",
    "        print('{} is odd'.format(int))\n",
    "odd_even(4)\n",
    "odd_even(5)"
   ]
  },
  {
   "cell_type": "markdown",
   "metadata": {
    "slideshow": {
     "slide_type": "fragment"
    }
   },
   "source": [
    "Write a function even_divide that takes as input two numbers: one number to check (call it num) and one number to divide by (call it div) if div divides evenly into num, print an appropriate message. If not, print a different appropriate message "
   ]
  },
  {
   "cell_type": "code",
   "execution_count": null,
   "metadata": {
    "slideshow": {
     "slide_type": "-"
    }
   },
   "outputs": [],
   "source": [
    "# Solution:"
   ]
  },
  {
   "cell_type": "code",
   "execution_count": null,
   "metadata": {
    "slideshow": {
     "slide_type": "notes"
    }
   },
   "outputs": [],
   "source": [
    "def even_divide(num, div):\n",
    "    if num % div == 0:\n",
    "        print('{} divides evenly into {}'.format(div, num))\n",
    "    else:\n",
    "        print('{} does not divide evenly into {}'.format(div, num))\n",
    "even_divide(4, 2)\n",
    "even_divide(4, 3)"
   ]
  },
  {
   "cell_type": "markdown",
   "metadata": {
    "slideshow": {
     "slide_type": "subslide"
    }
   },
   "source": [
    "## 1. Ready for oTree? Python review"
   ]
  },
  {
   "cell_type": "code",
   "execution_count": null,
   "metadata": {
    "slideshow": {
     "slide_type": "fragment"
    }
   },
   "outputs": [],
   "source": [
    "li = [1, 1, 2, 3, 5, 8, 13, 21, 34, 55, 89]\n",
    "# 1. Write a piece of code that prints out all the elements of the list that are strictly less than 13\n",
    "# 2. Make a new list other_li that has all the elements strictly less that 13 from li in it and print out this new list"
   ]
  },
  {
   "cell_type": "code",
   "execution_count": null,
   "metadata": {
    "slideshow": {
     "slide_type": "-"
    }
   },
   "outputs": [],
   "source": [
    "# Solution to 1:\n",
    "\n",
    "# Solution to 2:"
   ]
  },
  {
   "cell_type": "code",
   "execution_count": null,
   "metadata": {
    "slideshow": {
     "slide_type": "notes"
    }
   },
   "outputs": [],
   "source": [
    "# Solution to 1:\n",
    "for i in li:\n",
    "    if i < 13:\n",
    "        print(i)\n",
    "# Solution to 2:\n",
    "other_li = []\n",
    "for i in li:\n",
    "    if i < 13:\n",
    "        other_li.append(i)\n",
    "print(other_li)\n",
    "alt_other_li = [i for i in li if i < 13]\n",
    "print(alt_other_li)"
   ]
  },
  {
   "cell_type": "markdown",
   "metadata": {
    "slideshow": {
     "slide_type": "slide"
    }
   },
   "source": [
    "## 2. Conceptual overview of oTree\n",
    "\n",
    "### - In oTree, an instance of an experimental session is a set of objects with a particular hierarchy:"
   ]
  },
  {
   "cell_type": "markdown",
   "metadata": {
    "slideshow": {
     "slide_type": "skip"
    }
   },
   "source": [
    "1. __Session__\n",
    "2. __Subsession__\n",
    "3. __Group__\n",
    "4. __Player__\n",
    "5. __Page__"
   ]
  },
  {
   "cell_type": "markdown",
   "metadata": {
    "slideshow": {
     "slide_type": "-"
    }
   },
   "source": [
    "1. __Session__: a series of subsessions\n",
    "2. __Subsession__: contains multiple groups\n",
    "3. __Group__: contains multiple players\n",
    "4. __Player__ : proceeds through multiple pages\n",
    "5. __Page__\n",
    "\n",
    "<img src=\"session_subsession-bell.png\">"
   ]
  },
  {
   "cell_type": "markdown",
   "metadata": {
    "slideshow": {
     "slide_type": "subslide"
    }
   },
   "source": [
    "## 2.1. Models.py\n",
    "- Here you define your app's data models\n",
    "    - More specifically, the columns of your database tables\n",
    "- For example:"
   ]
  },
  {
   "cell_type": "code",
   "execution_count": null,
   "metadata": {
    "slideshow": {
     "slide_type": "-"
    }
   },
   "outputs": [],
   "source": [
    "class Player(BasePlayer):\n",
    "    name = models.StringField()\n",
    "    age = models.IntegerField(initial=0, min=15, max=100)\n",
    "    is_student = models.BooleanField()"
   ]
  },
  {
   "cell_type": "markdown",
   "metadata": {
    "slideshow": {
     "slide_type": "-"
    }
   },
   "source": [
    "- Here we define three columns for our database table\n",
    "- Once players fill in the fields, cells of the table will contain this data\n",
    "- Afterwards, the data will be available to us in CSV format"
   ]
  },
  {
   "cell_type": "markdown",
   "metadata": {
    "slideshow": {
     "slide_type": "subslide"
    }
   },
   "source": [
    "- In general, we are working with four classes in our models.py:"
   ]
  },
  {
   "cell_type": "code",
   "execution_count": null,
   "metadata": {
    "slideshow": {
     "slide_type": "-"
    }
   },
   "outputs": [],
   "source": [
    "class Constants(BaseConstants):\n",
    "    # fixed set of global parameters, remaining the same for the entire app\n",
    "    name_in_url = 'my_matching_pennies'\n",
    "    players_per_group = 2\n",
    "    num_rounds = 4\n",
    "\n",
    "class Subsession(BaseSubsession):\n",
    "    # data that can change from session to session and from round to round, for the entire set of participants in the\n",
    "    # specific session\n",
    "\n",
    "class Group(BaseGroup):\n",
    "    # data that remains the same for the group of players in the specific round\n",
    "    \n",
    "class Player(BasePlayer):\n",
    "    # data for individual decision makers"
   ]
  },
  {
   "cell_type": "markdown",
   "metadata": {
    "slideshow": {
     "slide_type": "fragment"
    }
   },
   "source": [
    "- Where should we define the fields we saw on the previous slide?"
   ]
  },
  {
   "cell_type": "markdown",
   "metadata": {
    "slideshow": {
     "slide_type": "subslide"
    }
   },
   "source": [
    "- Field types:\n",
    "    - BooleanField: true/false, yes/no\n",
    "    - CurrencyField\n",
    "    - IntegerField: 0, 1, 2, ...\n",
    "    - FloatField: 0.05, 7.144 ...\n",
    "    - StringField: \"Short\" strings\n",
    "    - LongStringField: Multi-line strings"
   ]
  }
 ],
 "metadata": {
  "celltoolbar": "Slideshow",
  "kernelspec": {
   "display_name": "Python 3",
   "language": "python",
   "name": "python3"
  },
  "language_info": {
   "codemirror_mode": {
    "name": "ipython",
    "version": 3
   },
   "file_extension": ".py",
   "mimetype": "text/x-python",
   "name": "python",
   "nbconvert_exporter": "python",
   "pygments_lexer": "ipython3",
   "version": "3.6.4"
  }
 },
 "nbformat": 4,
 "nbformat_minor": 2
}
